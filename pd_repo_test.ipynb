{
 "cells": [
  {
   "cell_type": "code",
   "execution_count": null,
   "metadata": {
    "colab": {
     "base_uri": "https://localhost:8080/"
    },
    "executionInfo": {
     "elapsed": 274,
     "status": "ok",
     "timestamp": 1627302030671,
     "user": {
      "displayName": "Martin Marek",
      "photoUrl": "https://lh3.googleusercontent.com/a-/AOh14GhPMe9bH4uZG5V-exmgiiZJtm58T0EKUuVCQ0ONxck=s64",
      "userId": "04932572550491068578"
     },
     "user_tz": -60
    },
    "id": "zkM2QvIMwhuy",
    "outputId": "a0f2cd7d-3a19-4450-bcd3-44b0d1e2e1d8"
   },
   "outputs": [],
   "source": [
    "import os\n",
    "! git clone https://github.com/martin-marek/parking-space-occupancy\n",
    "os.chdir('parking-space-occupancy')"
   ]
  },
  {
   "cell_type": "code",
   "execution_count": 7,
   "metadata": {},
   "outputs": [],
   "source": [
    "import torch, os, requests\n",
    "from models.rcnn import RCNN\n",
    "from utils import transforms, import_json\n",
    "from utils import visualize as vis \n",
    "import torchvision"
   ]
  },
  {
   "cell_type": "code",
   "execution_count": 8,
   "metadata": {},
   "outputs": [
    {
     "name": "stderr",
     "output_type": "stream",
     "text": [
      "/home/zazza/.local/lib/python3.10/site-packages/torchvision/models/_utils.py:208: UserWarning: The parameter 'pretrained' is deprecated since 0.13 and may be removed in the future, please use 'weights' instead.\n",
      "  warnings.warn(\n",
      "/home/zazza/.local/lib/python3.10/site-packages/torchvision/models/_utils.py:223: UserWarning: Arguments other than a weight enum or `None` for 'weights' are deprecated since 0.13 and may be removed in the future. The current behavior is equivalent to passing `weights=ResNet50_Weights.IMAGENET1K_V1`. You can also use `weights=ResNet50_Weights.DEFAULT` to get the most up-to-date weights.\n",
      "  warnings.warn(msg)\n"
     ]
    },
    {
     "data": {
      "text/plain": [
       "<All keys matched successfully>"
      ]
     },
     "execution_count": 8,
     "metadata": {},
     "output_type": "execute_result"
    }
   ],
   "source": [
    "# create model\n",
    "model = RCNN()\n",
    "\n",
    "# load model weights\n",
    "weights_path = 'weights.pt'\n",
    "if not os.path.exists(weights_path):\n",
    "    r = requests.get('https://storage.googleapis.com/pd-models/RCNN_128_square_gopro.pt')  \n",
    "    with open(weights_path, 'wb') as f:\n",
    "        f.write(r.content)\n",
    "model.load_state_dict(torch.load(weights_path, map_location='cpu'))"
   ]
  },
  {
   "cell_type": "code",
   "execution_count": null,
   "metadata": {
    "colab": {
     "base_uri": "https://localhost:8080/"
    },
    "executionInfo": {
     "elapsed": 1395,
     "status": "ok",
     "timestamp": 1627302078395,
     "user": {
      "displayName": "Martin Marek",
      "photoUrl": "https://lh3.googleusercontent.com/a-/AOh14GhPMe9bH4uZG5V-exmgiiZJtm58T0EKUuVCQ0ONxck=s64",
      "userId": "04932572550491068578"
     },
     "user_tz": -60
    },
    "id": "0Ijuda30wiLp",
    "outputId": "a4af46ff-059d-4a05-94a8-3ea8d6457107"
   },
   "outputs": [],
   "source": [
    "# inference for single image\n",
    "\"\"\" image_path = \"./dataset/data/images/ParkProva.jpg\"\n",
    "image = torchvision.io.read_image(image_path)\n",
    "\n",
    "rois = transform_json.ultralytics_to_tensor('./dataset/data/bounding_boxes.json')\n",
    "rois = transform_json.normalize_tensor_with_image(rois, image_path) \"\"\"\n",
    "\n",
    "# inference for all images in a folder\n",
    "repo_path = \"./RestPKLOTs-1/train/images\"\n",
    "annotation_path = './RestPKLOTs-1/train/_annotations.coco.json'\n",
    "\n",
    "for root, _, files in os.walk(repo_path):\n",
    "        for i, file in enumerate(files):\n",
    "            if file.endswith(('.jpg', '.jpeg', '.png')):\n",
    "                image_path = os.path.join(root, file)\n",
    "                image = torchvision.io.read_image(image_path)\n",
    "                rois = import_json.extract_and_standardize_bboxes(annotation_path, image_path)\n",
    "\n",
    "                ge = transforms.preprocess(image)\n",
    "\n",
    "                with torch.no_grad():\n",
    "                    class_logits = model(image, rois)\n",
    "                    class_scores = class_logits.softmax(1)[:, 1]\n",
    "\n",
    "                # to visualize (comment when dealing with more than 5 images)\n",
    "                # vis.plot_ds_image(image, rois, class_scores)\n",
    "                "
   ]
  },
  {
   "cell_type": "code",
   "execution_count": 11,
   "metadata": {
    "id": "wff4vo5qwnX6"
   },
   "outputs": [],
   "source": [
    "# for inference on divided dataset \n",
    "repo_path = \"./RestPKLOTs-1/train/images\"\n",
    "parking_directories = ['parking1', 'parking2', 'parking3']\n",
    "annotation_path = './RestPKLOTs-1/train/_annotations.coco.json'\n",
    "\n",
    "parking_counts = {parking: {\"occupied\": 0, \"vacant\": 0} for parking in parking_directories}\n",
    "\n",
    "for parking in parking_directories:\n",
    "        parking_path = os.path.join(repo_path, parking)\n",
    "        for root, _, files in os.walk(parking_path):\n",
    "            for i, file in enumerate(files):\n",
    "                if file.endswith(('.jpg', '.jpeg', '.png')):\n",
    "                    image_path = os.path.join(root, file)\n",
    "                    image = torchvision.io.read_image(image_path)\n",
    "                    rois = import_json.extract_and_standardize_bboxes(annotation_path, image_path)\n",
    "\n",
    "                    image = transforms.preprocess(image)\n",
    "\n",
    "                    with torch.no_grad():\n",
    "                        class_logits = model(image, rois)\n",
    "                        class_scores = class_logits.softmax(1)[:, 1]\n",
    "\n",
    "                    occupied_count = (class_scores > 0.5).sum().item()\n",
    "                    vacant_count = (class_scores <= 0.5).sum().item()\n",
    "\n",
    "                    # Update counts in the dictionary\n",
    "                    parking_counts[parking][\"occupied\"] += occupied_count\n",
    "                    parking_counts[parking][\"vacant\"] += vacant_count\n",
    "                if i == 1: break"
   ]
  }
 ],
 "metadata": {
  "colab": {
   "authorship_tag": "ABX9TyM1wjv3u29CdfosLsKlzvXE",
   "collapsed_sections": [],
   "name": "pd_repo_test.ipynb",
   "provenance": []
  },
  "kernelspec": {
   "display_name": "Python 3",
   "name": "python3"
  },
  "language_info": {
   "codemirror_mode": {
    "name": "ipython",
    "version": 3
   },
   "file_extension": ".py",
   "mimetype": "text/x-python",
   "name": "python",
   "nbconvert_exporter": "python",
   "pygments_lexer": "ipython3",
   "version": "3.10.12"
  }
 },
 "nbformat": 4,
 "nbformat_minor": 0
}
