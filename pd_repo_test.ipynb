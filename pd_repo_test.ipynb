{
 "cells": [
  {
   "cell_type": "code",
   "execution_count": 2,
   "metadata": {
    "colab": {
     "base_uri": "https://localhost:8080/"
    },
    "executionInfo": {
     "elapsed": 274,
     "status": "ok",
     "timestamp": 1627302030671,
     "user": {
      "displayName": "Martin Marek",
      "photoUrl": "https://lh3.googleusercontent.com/a-/AOh14GhPMe9bH4uZG5V-exmgiiZJtm58T0EKUuVCQ0ONxck=s64",
      "userId": "04932572550491068578"
     },
     "user_tz": -60
    },
    "id": "zkM2QvIMwhuy",
    "outputId": "a0f2cd7d-3a19-4450-bcd3-44b0d1e2e1d8"
   },
   "outputs": [
    {
     "name": "stdout",
     "output_type": "stream",
     "text": [
      "fatal: destination path 'parking-space-occupancy' already exists and is not an empty directory.\n"
     ]
    }
   ],
   "source": [
    "import os\n",
    "! git clone https://github.com/martin-marek/parking-space-occupancy\n",
    "os.chdir('parking-space-occupancy')"
   ]
  },
  {
   "cell_type": "code",
   "execution_count": null,
   "metadata": {
    "colab": {
     "base_uri": "https://localhost:8080/"
    },
    "executionInfo": {
     "elapsed": 1395,
     "status": "ok",
     "timestamp": 1627302078395,
     "user": {
      "displayName": "Martin Marek",
      "photoUrl": "https://lh3.googleusercontent.com/a-/AOh14GhPMe9bH4uZG5V-exmgiiZJtm58T0EKUuVCQ0ONxck=s64",
      "userId": "04932572550491068578"
     },
     "user_tz": -60
    },
    "id": "0Ijuda30wiLp",
    "outputId": "a4af46ff-059d-4a05-94a8-3ea8d6457107"
   },
   "outputs": [
    {
     "ename": "NameError",
     "evalue": "name 'os' is not defined",
     "output_type": "error",
     "traceback": [
      "\u001b[0;31m---------------------------------------------------------------------------\u001b[0m",
      "\u001b[0;31mNameError\u001b[0m                                 Traceback (most recent call last)",
      "Cell \u001b[0;32mIn[4], line 34\u001b[0m\n\u001b[1;32m     32\u001b[0m image_path \u001b[38;5;241m=\u001b[39m os\u001b[38;5;241m.\u001b[39mpath\u001b[38;5;241m.\u001b[39mjoin(root, file)\n\u001b[1;32m     33\u001b[0m image \u001b[38;5;241m=\u001b[39m torchvision\u001b[38;5;241m.\u001b[39mio\u001b[38;5;241m.\u001b[39mread_image(image_path)\n\u001b[0;32m---> 34\u001b[0m rois \u001b[38;5;241m=\u001b[39m \u001b[43mimport_json\u001b[49m\u001b[38;5;241;43m.\u001b[39;49m\u001b[43mextract_and_standardize_bboxes\u001b[49m\u001b[43m(\u001b[49m\u001b[38;5;124;43m'\u001b[39;49m\u001b[38;5;124;43m./RestPKLOTs-1/test/_annotations.coco.json\u001b[39;49m\u001b[38;5;124;43m'\u001b[39;49m\u001b[43m,\u001b[49m\u001b[43m \u001b[49m\u001b[43mimage_path\u001b[49m\u001b[43m)\u001b[49m\n\u001b[1;32m     36\u001b[0m \u001b[38;5;66;03m# Preprocess the image\u001b[39;00m\n\u001b[1;32m     37\u001b[0m image \u001b[38;5;241m=\u001b[39m transforms\u001b[38;5;241m.\u001b[39mpreprocess(image)\n",
      "File \u001b[0;32m~/Documents/BigData/parking-space-occupancy/utils/import_json.py:15\u001b[0m, in \u001b[0;36mextract_and_standardize_bboxes\u001b[0;34m(annotation_file, image_file)\u001b[0m\n\u001b[1;32m     12\u001b[0m image_width, image_height \u001b[38;5;241m=\u001b[39m image\u001b[38;5;241m.\u001b[39msize\n\u001b[1;32m     14\u001b[0m \u001b[38;5;66;03m# Find the image ID\u001b[39;00m\n\u001b[0;32m---> 15\u001b[0m image_filename \u001b[38;5;241m=\u001b[39m \u001b[43mos\u001b[49m\u001b[38;5;241m.\u001b[39mpath\u001b[38;5;241m.\u001b[39mbasename(image_file)\n\u001b[1;32m     16\u001b[0m image_id \u001b[38;5;241m=\u001b[39m \u001b[38;5;28;01mNone\u001b[39;00m\n\u001b[1;32m     17\u001b[0m \u001b[38;5;28;01mfor\u001b[39;00m img \u001b[38;5;129;01min\u001b[39;00m annotations[\u001b[38;5;124m'\u001b[39m\u001b[38;5;124mimages\u001b[39m\u001b[38;5;124m'\u001b[39m]:\n",
      "\u001b[0;31mNameError\u001b[0m: name 'os' is not defined"
     ]
    }
   ],
   "source": [
    "import torch, os, requests\n",
    "from models.rcnn import RCNN\n",
    "from utils import transforms, transform_json, import_json\n",
    "from PIL import Image\n",
    "import numpy as np\n",
    "from utils import visualize as vis \n",
    "import torchvision\n",
    "\n",
    "# create model\n",
    "model = RCNN()\n",
    "\n",
    "# load model weights\n",
    "weights_path = 'weights.pt'\n",
    "if not os.path.exists(weights_path):\n",
    "    r = requests.get('https://storage.googleapis.com/pd-models/RCNN_128_square_gopro.pt')  \n",
    "    with open(weights_path, 'wb') as f:\n",
    "        f.write(r.content)\n",
    "model.load_state_dict(torch.load(weights_path, map_location='cpu'))\n",
    "\n",
    "# inference\n",
    "image_path = \"./dataset/data/images/ParkProva.jpg\"\n",
    "image = torchvision.io.read_image(image_path)\n",
    "\n",
    "rois = transform_json.ultralytics_to_tensor('./dataset/data/bounding_boxes.json')\n",
    "rois = transform_json.normalize_tensor_with_image(rois, image_path)\n",
    "\n",
    "repo_path = \"./RestPKLOTs-1/test/images\"\n",
    "\n",
    "for root, _, files in os.walk(repo_path):\n",
    "        for file in files:\n",
    "            if file.endswith(('.jpg', '.jpeg', '.png')):\n",
    "                image_path = os.path.join(root, file)\n",
    "                image = torchvision.io.read_image(image_path)\n",
    "                rois = import_json.extract_and_standardize_bboxes('./RestPKLOTs-1/test/_annotations.coco.json', image_path)\n",
    "\n",
    "                # Preprocess the image\n",
    "                image = transforms.preprocess(image)\n",
    "                image_tensor = transforms.preprocess(T.ToTensor()(image).unsqueeze(0))\n",
    "\n",
    "                # Perform inference\n",
    "                with torch.no_grad():\n",
    "                    class_logits = model(image_tensor, rois)\n",
    "                    class_scores = class_logits.softmax(1)[:, 1]\n",
    "\n",
    "                # Visualize results\n",
    "                vis.plot_ds_image(image_tensor, rois, class_scores)"
   ]
  },
  {
   "cell_type": "markdown",
   "metadata": {},
   "source": []
  },
  {
   "cell_type": "code",
   "execution_count": null,
   "metadata": {
    "id": "wff4vo5qwnX6"
   },
   "outputs": [],
   "source": []
  }
 ],
 "metadata": {
  "colab": {
   "authorship_tag": "ABX9TyM1wjv3u29CdfosLsKlzvXE",
   "collapsed_sections": [],
   "name": "pd_repo_test.ipynb",
   "provenance": []
  },
  "kernelspec": {
   "display_name": "Python 3",
   "name": "python3"
  },
  "language_info": {
   "codemirror_mode": {
    "name": "ipython",
    "version": 3
   },
   "file_extension": ".py",
   "mimetype": "text/x-python",
   "name": "python",
   "nbconvert_exporter": "python",
   "pygments_lexer": "ipython3",
   "version": "3.10.12"
  }
 },
 "nbformat": 4,
 "nbformat_minor": 0
}
